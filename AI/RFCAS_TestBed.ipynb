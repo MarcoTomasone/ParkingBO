{
  "cells": [
    {
      "cell_type": "markdown",
      "metadata": {
        "id": "zZ5JM9QnCuJ8"
      },
      "source": [
        "Upload dataset from .csv local file"
      ]
    },
    {
      "cell_type": "markdown",
      "metadata": {
        "id": "WyN9xF-QDFEB"
      },
      "source": [
        "Read .csv file into a pandas dataframe"
      ]
    },
    {
      "cell_type": "code",
      "execution_count": 1,
      "metadata": {
        "id": "s3wyY6wgDJlx"
      },
      "outputs": [],
      "source": [
        "import pandas as pd\n",
        "df = pd.read_csv(\"./supports/har_dataset_preprocessedScaled.csv\")\n",
        "data = pd.read_csv(\"./supports/S2.csv\")"
      ]
    },
    {
      "cell_type": "markdown",
      "metadata": {
        "id": "GQNhCD2iD8bH"
      },
      "source": [
        "Divide df into train and test (Training Sample)"
      ]
    },
    {
      "cell_type": "code",
      "execution_count": 4,
      "metadata": {
        "id": "zJkyJITKD8Gf"
      },
      "outputs": [],
      "source": [
        "from sklearn.model_selection import train_test_split\n",
        "df.reset_index()\n",
        "y = df[\"target\"] \n",
        "X = df.drop(columns=\"target\")\n",
        "X_train, X_rem, y_train, y_rem = train_test_split(X, y, random_state=42, test_size=0.20, shuffle=True)\n",
        "X_valid, X_test, y_valid, y_test = train_test_split(X_rem,y_rem,random_state=42, test_size=0.5)\n"
      ]
    },
    {
      "cell_type": "markdown",
      "metadata": {
        "id": "8gtWMuz4FeQw"
      },
      "source": [
        "Train Random Forest Model\n"
      ]
    },
    {
      "cell_type": "code",
      "execution_count": 5,
      "metadata": {
        "colab": {
          "base_uri": "https://localhost:8080/"
        },
        "id": "K_3Vvq1NXxXV",
        "outputId": "9eee4db7-fa81-4604-edc1-dd5c474e1377"
      },
      "outputs": [
        {
          "name": "stderr",
          "output_type": "stream",
          "text": [
            "C:\\Users\\simon\\AppData\\Local\\Packages\\PythonSoftwareFoundation.Python.3.8_qbz5n2kfra8p0\\LocalCache\\local-packages\\Python38\\site-packages\\sklearn\\ensemble\\_forest.py:424: FutureWarning: `max_features='auto'` has been deprecated in 1.1 and will be removed in 1.3. To keep the past behaviour, explicitly set `max_features='sqrt'` or remove this parameter as it is also the default value for RandomForestClassifiers and ExtraTreesClassifiers.\n",
            "  warn(\n"
          ]
        },
        {
          "data": {
            "text/html": [
              "<style>#sk-container-id-1 {color: black;background-color: white;}#sk-container-id-1 pre{padding: 0;}#sk-container-id-1 div.sk-toggleable {background-color: white;}#sk-container-id-1 label.sk-toggleable__label {cursor: pointer;display: block;width: 100%;margin-bottom: 0;padding: 0.3em;box-sizing: border-box;text-align: center;}#sk-container-id-1 label.sk-toggleable__label-arrow:before {content: \"▸\";float: left;margin-right: 0.25em;color: #696969;}#sk-container-id-1 label.sk-toggleable__label-arrow:hover:before {color: black;}#sk-container-id-1 div.sk-estimator:hover label.sk-toggleable__label-arrow:before {color: black;}#sk-container-id-1 div.sk-toggleable__content {max-height: 0;max-width: 0;overflow: hidden;text-align: left;background-color: #f0f8ff;}#sk-container-id-1 div.sk-toggleable__content pre {margin: 0.2em;color: black;border-radius: 0.25em;background-color: #f0f8ff;}#sk-container-id-1 input.sk-toggleable__control:checked~div.sk-toggleable__content {max-height: 200px;max-width: 100%;overflow: auto;}#sk-container-id-1 input.sk-toggleable__control:checked~label.sk-toggleable__label-arrow:before {content: \"▾\";}#sk-container-id-1 div.sk-estimator input.sk-toggleable__control:checked~label.sk-toggleable__label {background-color: #d4ebff;}#sk-container-id-1 div.sk-label input.sk-toggleable__control:checked~label.sk-toggleable__label {background-color: #d4ebff;}#sk-container-id-1 input.sk-hidden--visually {border: 0;clip: rect(1px 1px 1px 1px);clip: rect(1px, 1px, 1px, 1px);height: 1px;margin: -1px;overflow: hidden;padding: 0;position: absolute;width: 1px;}#sk-container-id-1 div.sk-estimator {font-family: monospace;background-color: #f0f8ff;border: 1px dotted black;border-radius: 0.25em;box-sizing: border-box;margin-bottom: 0.5em;}#sk-container-id-1 div.sk-estimator:hover {background-color: #d4ebff;}#sk-container-id-1 div.sk-parallel-item::after {content: \"\";width: 100%;border-bottom: 1px solid gray;flex-grow: 1;}#sk-container-id-1 div.sk-label:hover label.sk-toggleable__label {background-color: #d4ebff;}#sk-container-id-1 div.sk-serial::before {content: \"\";position: absolute;border-left: 1px solid gray;box-sizing: border-box;top: 0;bottom: 0;left: 50%;z-index: 0;}#sk-container-id-1 div.sk-serial {display: flex;flex-direction: column;align-items: center;background-color: white;padding-right: 0.2em;padding-left: 0.2em;position: relative;}#sk-container-id-1 div.sk-item {position: relative;z-index: 1;}#sk-container-id-1 div.sk-parallel {display: flex;align-items: stretch;justify-content: center;background-color: white;position: relative;}#sk-container-id-1 div.sk-item::before, #sk-container-id-1 div.sk-parallel-item::before {content: \"\";position: absolute;border-left: 1px solid gray;box-sizing: border-box;top: 0;bottom: 0;left: 50%;z-index: -1;}#sk-container-id-1 div.sk-parallel-item {display: flex;flex-direction: column;z-index: 1;position: relative;background-color: white;}#sk-container-id-1 div.sk-parallel-item:first-child::after {align-self: flex-end;width: 50%;}#sk-container-id-1 div.sk-parallel-item:last-child::after {align-self: flex-start;width: 50%;}#sk-container-id-1 div.sk-parallel-item:only-child::after {width: 0;}#sk-container-id-1 div.sk-dashed-wrapped {border: 1px dashed gray;margin: 0 0.4em 0.5em 0.4em;box-sizing: border-box;padding-bottom: 0.4em;background-color: white;}#sk-container-id-1 div.sk-label label {font-family: monospace;font-weight: bold;display: inline-block;line-height: 1.2em;}#sk-container-id-1 div.sk-label-container {text-align: center;}#sk-container-id-1 div.sk-container {/* jupyter's `normalize.less` sets `[hidden] { display: none; }` but bootstrap.min.css set `[hidden] { display: none !important; }` so we also need the `!important` here to be able to override the default hidden behavior on the sphinx rendered scikit-learn.org. See: https://github.com/scikit-learn/scikit-learn/issues/21755 */display: inline-block !important;position: relative;}#sk-container-id-1 div.sk-text-repr-fallback {display: none;}</style><div id=\"sk-container-id-1\" class=\"sk-top-container\"><div class=\"sk-text-repr-fallback\"><pre>RandomForestClassifier(bootstrap=False, max_depth=50, max_features=&#x27;auto&#x27;,\n",
              "                       min_samples_leaf=4, n_estimators=1800)</pre><b>In a Jupyter environment, please rerun this cell to show the HTML representation or trust the notebook. <br />On GitHub, the HTML representation is unable to render, please try loading this page with nbviewer.org.</b></div><div class=\"sk-container\" hidden><div class=\"sk-item\"><div class=\"sk-estimator sk-toggleable\"><input class=\"sk-toggleable__control sk-hidden--visually\" id=\"sk-estimator-id-1\" type=\"checkbox\" checked><label for=\"sk-estimator-id-1\" class=\"sk-toggleable__label sk-toggleable__label-arrow\">RandomForestClassifier</label><div class=\"sk-toggleable__content\"><pre>RandomForestClassifier(bootstrap=False, max_depth=50, max_features=&#x27;auto&#x27;,\n",
              "                       min_samples_leaf=4, n_estimators=1800)</pre></div></div></div></div></div>"
            ],
            "text/plain": [
              "RandomForestClassifier(bootstrap=False, max_depth=50, max_features='auto',\n",
              "                       min_samples_leaf=4, n_estimators=1800)"
            ]
          },
          "execution_count": 5,
          "metadata": {},
          "output_type": "execute_result"
        }
      ],
      "source": [
        "from sklearn.ensemble import RandomForestClassifier\n",
        "\n",
        "rf = RandomForestClassifier(n_estimators= 1800, min_samples_split= 2, min_samples_leaf= 4, max_features='auto', max_depth= 50, bootstrap=False)\n",
        "rf.fit(X_train,y_train)"
      ]
    },
    {
      "cell_type": "code",
      "execution_count": 32,
      "metadata": {
        "colab": {
          "base_uri": "https://localhost:8080/"
        },
        "id": "zvmJje_uF3l6",
        "outputId": "308e5d98-2e6d-458e-b9d0-7908986eb23e"
      },
      "outputs": [
        {
          "name": "stdout",
          "output_type": "stream",
          "text": [
            "[0. 1. 0. ... 0. 1. 1.]\n",
            "0.5925957207207206\n",
            "Evaluating the Algorithm:\n",
            "\n",
            "[[892  68]\n",
            " [135 901]]\n",
            "              precision    recall  f1-score   support\n",
            "\n",
            "         0.0       0.87      0.93      0.90       960\n",
            "         1.0       0.93      0.87      0.90      1036\n",
            "\n",
            "    accuracy                           0.90      1996\n",
            "   macro avg       0.90      0.90      0.90      1996\n",
            "weighted avg       0.90      0.90      0.90      1996\n",
            "\n",
            "Evaluating Prediction Accuracy:\n",
            "\n",
            "Accuracy: 0.8982965931863728\n"
          ]
        }
      ],
      "source": [
        "from sklearn.metrics import mean_squared_error,r2_score\n",
        "from sklearn import metrics\n",
        "predictions = rf.predict(X_test)\n",
        "\n",
        "from pprint import pprint\n",
        "# arr is the numpy ndarray\n",
        "#pprint(predictions.tolist())\n",
        "print(predictions)\n",
        "\n",
        "print(r2_score(y_test, predictions))\n",
        "print(\"Evaluating the Algorithm:\\n\")\n",
        "print(metrics.confusion_matrix(y_test, predictions))\n",
        "print(metrics.classification_report(y_test, predictions))\n",
        "\n",
        "\n",
        "print(\"Evaluating Prediction Accuracy:\\n\")\n",
        "print(\"Accuracy:\", metrics.accuracy_score(y_test, predictions))\n"
      ]
    },
    {
      "cell_type": "code",
      "execution_count": 33,
      "metadata": {
        "colab": {
          "base_uri": "https://localhost:8080/"
        },
        "id": "aPFwpe_UZhnm",
        "outputId": "a1d92497-8fe2-469c-bb3d-4de4c71120e1"
      },
      "outputs": [
        {
          "name": "stdout",
          "output_type": "stream",
          "text": [
            "       android.sensor.accelerometer#mean  android.sensor.accelerometer#min  \\\n",
            "0                               0.959836                          0.792872   \n",
            "1                               0.961322                          0.949409   \n",
            "2                               0.101856                          0.100376   \n",
            "3                               0.118582                          0.113220   \n",
            "4                               0.992690                          0.978262   \n",
            "...                                  ...                               ...   \n",
            "19951                           0.101044                          0.100857   \n",
            "19952                           0.954418                          0.954420   \n",
            "19953                           0.142576                          0.142552   \n",
            "19954                           0.107256                          0.107231   \n",
            "19955                           0.158915                          0.158891   \n",
            "\n",
            "       android.sensor.accelerometer#max  android.sensor.accelerometer#std  \\\n",
            "0                              0.118021                      1.850646e-01   \n",
            "1                              0.973239                      1.685663e-13   \n",
            "2                              0.104097                      2.030850e-13   \n",
            "3                              0.123843                      7.549981e-13   \n",
            "4                              0.100624                      2.041524e-13   \n",
            "...                                 ...                               ...   \n",
            "19951                          0.101269                      2.628018e-14   \n",
            "19952                          0.954418                      1.449667e-01   \n",
            "19953                          0.142502                      8.298578e-13   \n",
            "19954                          0.107178                      7.092379e-01   \n",
            "19955                          0.158842                      3.607994e-01   \n",
            "\n",
            "       android.sensor.gyroscope#mean  android.sensor.gyroscope#min  \\\n",
            "0                       1.678917e-13                  1.678917e-13   \n",
            "1                       1.177244e-13                  1.177244e-13   \n",
            "2                       5.498250e-14                  5.498250e-14   \n",
            "3                       1.840646e-13                  1.182833e-13   \n",
            "4                       3.608535e-13                  3.608535e-13   \n",
            "...                              ...                           ...   \n",
            "19951                   3.019066e-14                  2.988606e-14   \n",
            "19952                   1.574468e-01                  1.574468e-01   \n",
            "19953                   1.158448e-12                  1.057890e-12   \n",
            "19954                   2.093821e-01                  1.360364e-01   \n",
            "19955                   1.619459e-02                  6.471941e-13   \n",
            "\n",
            "       android.sensor.gyroscope#max  android.sensor.gyroscope#std  \\\n",
            "0                      1.428808e-13                  2.151325e-14   \n",
            "1                      1.001869e-13                  1.064068e-13   \n",
            "2                      4.679173e-14                  4.393841e-15   \n",
            "3                      2.126262e-13                  1.324307e-13   \n",
            "4                      3.070970e-13                  9.152798e-14   \n",
            "...                             ...                           ...   \n",
            "19951                  2.595237e-14                  6.132194e-16   \n",
            "19952                  1.339919e-01                  8.317577e-13   \n",
            "19953                  1.071451e-01                  2.024435e-13   \n",
            "19954                  2.321592e-01                  9.811004e-13   \n",
            "19955                  2.632908e-01                  1.288191e-12   \n",
            "\n",
            "       android.sensor.gyroscope_uncalibrated#mean  \\\n",
            "0                                    2.161540e-13   \n",
            "1                                    1.100250e-13   \n",
            "2                                    9.113104e-14   \n",
            "3                                    3.910000e-13   \n",
            "4                                    1.937365e-13   \n",
            "...                                           ...   \n",
            "19951                                3.564271e-14   \n",
            "19952                                9.853499e-13   \n",
            "19953                                2.406406e-01   \n",
            "19954                                1.701726e-01   \n",
            "19955                                3.868995e-01   \n",
            "\n",
            "       android.sensor.gyroscope_uncalibrated#min  \\\n",
            "0                                   2.207669e-13   \n",
            "1                                   6.976977e-14   \n",
            "2                                   8.310722e-14   \n",
            "3                                   3.816628e-13   \n",
            "4                                   5.594103e-14   \n",
            "...                                          ...   \n",
            "19951                               4.025563e-14   \n",
            "19952                               9.899628e-13   \n",
            "19953                               2.406406e-01   \n",
            "19954                               1.491422e-02   \n",
            "19955                               3.868995e-01   \n",
            "\n",
            "       android.sensor.gyroscope_uncalibrated#max  \\\n",
            "0                                   1.969582e-13   \n",
            "1                                   1.706560e-13   \n",
            "2                                   9.072475e-14   \n",
            "3                                   3.689881e-13   \n",
            "4                                   3.004024e-13   \n",
            "...                                          ...   \n",
            "19951                               3.247741e-14   \n",
            "19952                               8.978446e-13   \n",
            "19953                               2.192702e-01   \n",
            "19954                               1.742229e-01   \n",
            "19955                               3.525404e-01   \n",
            "\n",
            "       android.sensor.gyroscope_uncalibrated#std  target  \n",
            "0                                   4.628673e-14     0.0  \n",
            "1                                   1.308156e-13     0.0  \n",
            "2                                   2.169822e-14     0.0  \n",
            "3                                   3.840350e-14     0.0  \n",
            "4                                   1.993213e-13     0.0  \n",
            "...                                          ...     ...  \n",
            "19951                               4.388584e-14     1.0  \n",
            "19952                               8.564872e-13     1.0  \n",
            "19953                               2.798979e-01     1.0  \n",
            "19954                               5.789482e-13     1.0  \n",
            "19955                               5.965285e-13     1.0  \n",
            "\n",
            "[19956 rows x 13 columns]\n"
          ]
        },
        {
          "name": "stderr",
          "output_type": "stream",
          "text": [
            "/usr/local/lib/python3.8/dist-packages/sklearn/base.py:493: FutureWarning: The feature names should match those that were passed during fit. Starting version 1.2, an error will be raised.\n",
            "Feature names unseen at fit time:\n",
            "- accelometer#max\n",
            "- accelometer#mean\n",
            "- accelometer#min\n",
            "- accelometer#std\n",
            "- gyroscope#max\n",
            "- ...\n",
            "Feature names seen at fit time, yet now missing:\n",
            "- android.sensor.accelerometer#max\n",
            "- android.sensor.accelerometer#mean\n",
            "- android.sensor.accelerometer#min\n",
            "- android.sensor.accelerometer#std\n",
            "- android.sensor.gyroscope#max\n",
            "- ...\n",
            "\n",
            "  warnings.warn(message, FutureWarning)\n"
          ]
        },
        {
          "name": "stdout",
          "output_type": "stream",
          "text": [
            "[1. 1. 1. 1. 1. 1. 1. 1. 1. 1. 1. 1. 1. 1. 1. 1. 1. 1. 1.]\n",
            "-2.1666666666666665\n",
            "Evaluating the Algorithm:\n",
            "\n",
            "[[ 0 13]\n",
            " [ 0  6]]\n",
            "              precision    recall  f1-score   support\n",
            "\n",
            "           0       0.00      0.00      0.00        13\n",
            "           1       0.32      1.00      0.48         6\n",
            "\n",
            "    accuracy                           0.32        19\n",
            "   macro avg       0.16      0.50      0.24        19\n",
            "weighted avg       0.10      0.32      0.15        19\n",
            "\n",
            "Evaluating Prediction Accuracy:\n",
            "\n",
            "Accuracy: 0.3157894736842105\n"
          ]
        },
        {
          "name": "stderr",
          "output_type": "stream",
          "text": [
            "/usr/local/lib/python3.8/dist-packages/sklearn/metrics/_classification.py:1318: UndefinedMetricWarning: Precision and F-score are ill-defined and being set to 0.0 in labels with no predicted samples. Use `zero_division` parameter to control this behavior.\n",
            "  _warn_prf(average, modifier, msg_start, len(result))\n",
            "/usr/local/lib/python3.8/dist-packages/sklearn/metrics/_classification.py:1318: UndefinedMetricWarning: Precision and F-score are ill-defined and being set to 0.0 in labels with no predicted samples. Use `zero_division` parameter to control this behavior.\n",
            "  _warn_prf(average, modifier, msg_start, len(result))\n",
            "/usr/local/lib/python3.8/dist-packages/sklearn/metrics/_classification.py:1318: UndefinedMetricWarning: Precision and F-score are ill-defined and being set to 0.0 in labels with no predicted samples. Use `zero_division` parameter to control this behavior.\n",
            "  _warn_prf(average, modifier, msg_start, len(result))\n"
          ]
        }
      ],
      "source": [
        "from sklearn.preprocessing import MinMaxScaler\n",
        "import pandas as pd\n",
        "data = data[(data['userTarget'] == 0) | (data['userTarget'] == 1)] \n",
        "\n",
        "y = data['userTarget']\n",
        "X = data.drop(['userTarget'],axis=1);\n",
        "\n",
        "\n",
        "predictions = rf.predict(X)\n",
        "\n",
        "from pprint import pprint\n",
        "# arr is the numpy ndarray\n",
        "#pprint(predictions.tolist())\n",
        "print(predictions)\n",
        "\n",
        "print(r2_score(y, predictions))\n",
        "print(\"Evaluating the Algorithm:\\n\")\n",
        "print(metrics.confusion_matrix(y, predictions))\n",
        "print(metrics.classification_report(y, predictions))\n",
        "\n",
        "\n",
        "print(\"Evaluating Prediction Accuracy:\\n\")\n",
        "print(\"Accuracy:\", metrics.accuracy_score(y, predictions))\n"
      ]
    },
    {
      "cell_type": "code",
      "execution_count": 6,
      "metadata": {
        "colab": {
          "base_uri": "https://localhost:8080/",
          "height": 339
        },
        "id": "HfWrrvARexZk",
        "outputId": "268e1c04-1e23-4960-cda1-2ba282f284c2"
      },
      "outputs": [
        {
          "name": "stderr",
          "output_type": "stream",
          "text": [
            "C:\\Users\\simon\\AppData\\Local\\Packages\\PythonSoftwareFoundation.Python.3.8_qbz5n2kfra8p0\\LocalCache\\local-packages\\Python38\\site-packages\\sklite\\lib\\abstract.py:85: UserWarning: C:\\Users\\simon/.sklite has been created.\n",
            "  warnings.warn(wrn)\n"
          ]
        }
      ],
      "source": [
        "from sklite import LazyExport\n",
        "lazy = LazyExport(rf)\n",
        "lazy.save('test.json')"
      ]
    },
    {
      "cell_type": "code",
      "execution_count": 8,
      "metadata": {},
      "outputs": [
        {
          "name": "stdout",
          "output_type": "stream",
          "text": [
            "{'bootstrap': False, 'ccp_alpha': 0.0, 'class_weight': None, 'criterion': 'gini', 'max_depth': 50, 'max_features': 'auto', 'max_leaf_nodes': None, 'max_samples': None, 'min_impurity_decrease': 0.0, 'min_samples_leaf': 4, 'min_samples_split': 2, 'min_weight_fraction_leaf': 0.0, 'n_estimators': 1800, 'n_jobs': None, 'oob_score': False, 'random_state': None, 'verbose': 0, 'warm_start': False}\n"
          ]
        }
      ],
      "source": [
        "print(rf.get_params(deep=True))"
      ]
    }
  ],
  "metadata": {
    "accelerator": "GPU",
    "colab": {
      "provenance": []
    },
    "gpuClass": "standard",
    "kernelspec": {
      "display_name": "Python 3",
      "language": "python",
      "name": "python3"
    },
    "language_info": {
      "codemirror_mode": {
        "name": "ipython",
        "version": 3
      },
      "file_extension": ".py",
      "mimetype": "text/x-python",
      "name": "python",
      "nbconvert_exporter": "python",
      "pygments_lexer": "ipython3",
      "version": "3.8.10"
    },
    "vscode": {
      "interpreter": {
        "hash": "20a32af23fa2dfa3c5d159e60107838eb3f09fc5f820c64a56f9f0f73009b4f7"
      }
    }
  },
  "nbformat": 4,
  "nbformat_minor": 0
}
